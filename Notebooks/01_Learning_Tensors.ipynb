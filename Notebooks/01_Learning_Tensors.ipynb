{
  "cells": [
    {
      "cell_type": "code",
      "execution_count": null,
      "metadata": {
        "colab": {
          "base_uri": "https://localhost:8080/"
        },
        "collapsed": true,
        "id": "zWgZv6vxS_uX",
        "outputId": "6092f3f7-e395-4f42-efef-4a19fcb931c3"
      },
      "outputs": [],
      "source": [
        "!pip list"
      ]
    },
    {
      "cell_type": "code",
      "execution_count": 1,
      "metadata": {
        "id": "VYnnoRJiTFXj"
      },
      "outputs": [],
      "source": [
        "import torch"
      ]
    },
    {
      "cell_type": "code",
      "execution_count": 2,
      "metadata": {
        "colab": {
          "base_uri": "https://localhost:8080/"
        },
        "id": "hYMxHYokTYU8",
        "outputId": "b87835ff-14b7-4b74-985e-6699820b9e31"
      },
      "outputs": [
        {
          "data": {
            "text/plain": [
              "False"
            ]
          },
          "execution_count": 2,
          "metadata": {},
          "output_type": "execute_result"
        }
      ],
      "source": [
        "torch.cuda.is_available()"
      ]
    },
    {
      "cell_type": "markdown",
      "metadata": {
        "id": "KeOHyffQT2xl"
      },
      "source": [
        "**Tensors**\n",
        "<br>\n",
        "Tensors are multidimensional arrays like numpy arrays but the difference is that they are computed faster by GPU's and are differentiated using autograd useful for training of NN\n"
      ]
    },
    {
      "cell_type": "code",
      "execution_count": 3,
      "metadata": {
        "colab": {
          "base_uri": "https://localhost:8080/"
        },
        "id": "4ndHYlHDTdGT",
        "outputId": "0e0deec5-8b5a-4724-9c4e-44495f952df2"
      },
      "outputs": [
        {
          "name": "stdout",
          "output_type": "stream",
          "text": [
            "Empty Tensor : tensor([2.7415e-24, 4.4654e-41, 2.7415e-24])\n",
            "Random Tensor : tensor([0.4774, 0.0901])\n",
            "Zeros Tensor : tensor([0., 0.])\n",
            "Ones Tensor : tensor([1, 1, 1], dtype=torch.int32)\n",
            "Tensor From List : tensor([1, 2, 3])\n"
          ]
        }
      ],
      "source": [
        "#Empty Tensors\n",
        "x = torch.empty(3)\n",
        "print(f'''Empty Tensor : {x}''')\n",
        "\n",
        "#Random Tensors\n",
        "y = torch.rand(2)\n",
        "print(f'''Random Tensor : {y}''')\n",
        "\n",
        "#Zeros Tensor\n",
        "z = torch.zeros(2)\n",
        "print(f'''Zeros Tensor : {z}''')\n",
        "\n",
        "#Ones Tensor\n",
        "a = torch.ones(3, dtype=torch.int)\n",
        "print(f'''Ones Tensor : {a}''')\n",
        "\n",
        "#Tensor From a List\n",
        "b = torch.tensor([1,2,3])\n",
        "print(f'''Tensor From List : {b}''')"
      ]
    },
    {
      "cell_type": "code",
      "execution_count": 4,
      "metadata": {
        "colab": {
          "base_uri": "https://localhost:8080/"
        },
        "id": "ocr0-mWiUpA2",
        "outputId": "3618bdc3-49c2-46b7-90a3-f2f5f58b150b"
      },
      "outputs": [
        {
          "name": "stdout",
          "output_type": "stream",
          "text": [
            "tensor([[0.0484, 0.8230],\n",
            "        [0.3232, 0.3268]])\n",
            "tensor([[0.7515, 0.1402],\n",
            "        [0.2458, 0.5469]])\n",
            "tensor([[0.8000, 0.9633],\n",
            "        [0.5689, 0.8736]])\n"
          ]
        }
      ],
      "source": [
        "t1 = torch.rand(2,2)\n",
        "t2 = torch.rand(2,2)\n",
        "print(t1)\n",
        "print(t2)\n",
        "t3 = t1 + t2\n",
        "# we could also do z = torch.add(t1,t2)\n",
        "#also could do y.add_(x) this will add x in y and store the value in y\n",
        "#print(t3)\n",
        "# t2.add_(t1)\n",
        "# print(t2)\n",
        "print(t3)\n",
        "\n",
        "# Note :- every function with a underscore after it will apply the operation and store it dirctly in the variable on which it is applied"
      ]
    },
    {
      "cell_type": "code",
      "execution_count": 5,
      "metadata": {
        "colab": {
          "base_uri": "https://localhost:8080/"
        },
        "id": "ffstinNrWX-r",
        "outputId": "2aabe49d-d1d6-4a5f-b97b-a3d2067d1a70"
      },
      "outputs": [
        {
          "name": "stdout",
          "output_type": "stream",
          "text": [
            "tensor([[ 0.2648, -0.0565],\n",
            "        [-0.1904, -0.4577]])\n"
          ]
        }
      ],
      "source": [
        "t3 = torch.rand(2,2)\n",
        "t4 = torch.rand(2,2)\n",
        "t5 = t3 - t4\n",
        "# or t5 = torch.sub(t3,t4)\n",
        "# or t4.sub_(t3)\n",
        "print(t5)"
      ]
    },
    {
      "cell_type": "code",
      "execution_count": 6,
      "metadata": {
        "id": "aCF25IEzXZ37"
      },
      "outputs": [],
      "source": [
        "# Similarly we have operations like\n",
        "# torch.mul()\n",
        "# torch.div()"
      ]
    },
    {
      "cell_type": "code",
      "execution_count": 7,
      "metadata": {
        "colab": {
          "base_uri": "https://localhost:8080/"
        },
        "id": "FItCoDGUZTti",
        "outputId": "0563ec55-b780-417a-e9d6-00587a7b7c78"
      },
      "outputs": [
        {
          "name": "stdout",
          "output_type": "stream",
          "text": [
            "tensor([[0.0638, 0.6455, 0.4517],\n",
            "        [0.4690, 0.6155, 0.9954],\n",
            "        [0.0821, 0.4384, 0.5159]])\n",
            "tensor([0.0638, 0.4690, 0.0821])\n",
            "tensor([0.0638, 0.6455, 0.4517])\n",
            "0.06378120183944702\n"
          ]
        }
      ],
      "source": [
        "# Slicing Operation\n",
        "t6 = torch.rand(3,3)\n",
        "print(t6)\n",
        "# First Column only\n",
        "print(t6[:,0])\n",
        "# First Row Only\n",
        "print(t6[0,:])\n",
        "# Particular Element\n",
        "print(t6[0,0].item()) #.item gets actual value of 1X1 tensor"
      ]
    },
    {
      "cell_type": "code",
      "execution_count": 8,
      "metadata": {
        "colab": {
          "base_uri": "https://localhost:8080/"
        },
        "id": "nLrWlWsqZkIc",
        "outputId": "1011796b-cc8a-43e7-c151-84e8e2d03592"
      },
      "outputs": [
        {
          "name": "stdout",
          "output_type": "stream",
          "text": [
            "tensor([[0.9463, 0.9801, 0.2549, 0.5745],\n",
            "        [0.9351, 0.0377, 0.2521, 0.6707],\n",
            "        [0.6670, 0.7754, 0.6814, 0.8879],\n",
            "        [0.4332, 0.6041, 0.7275, 0.8165]])\n",
            "torch.Size([4, 4])\n",
            "torch.Size([16])\n",
            "torch.Size([8, 2])\n"
          ]
        }
      ],
      "source": [
        "# Reshaping Tensor\n",
        "t7 = torch.rand(4,4)\n",
        "print(t7)\n",
        "print(t7.size())\n",
        "t8 = t7.view(16)\n",
        "print(t8.size())\n",
        "t9 = t7.view(-1,2)\n",
        "print(t9.size())"
      ]
    },
    {
      "cell_type": "code",
      "execution_count": 9,
      "metadata": {
        "colab": {
          "base_uri": "https://localhost:8080/"
        },
        "id": "w06TdEtSadVc",
        "outputId": "385be02b-8b25-4bf0-cf19-f2a18a1fae77"
      },
      "outputs": [
        {
          "name": "stdout",
          "output_type": "stream",
          "text": [
            "tensor([1., 1., 1., 1., 1.])\n",
            "[1. 1. 1. 1. 1.]\n",
            "<class 'numpy.ndarray'>\n"
          ]
        }
      ],
      "source": [
        "# Converting From a Numpy to a Tensor\n",
        "import numpy as np\n",
        "\n",
        "t10 = torch.ones(5)\n",
        "print(t10)\n",
        "numpy_t10 = t10.numpy()\n",
        "print(numpy_t10)\n",
        "print(type(numpy_t10))\n",
        "\n",
        "# If tensor is on CPU than GPU then both will share same memory location and\n",
        "# if one changes other will change as well\n",
        "\n",
        "# This memory-sharing behavior only happens when the tensor is on the CPU.\n",
        "# If the tensor is on a GPU (CUDA tensor), the .numpy() method\n",
        "# will raise an error since NumPy cannot directly work with GPU memory.\n",
        "# In that case, you would need to move the tensor to the CPU first (using .cpu())\n",
        "# before converting it to a NumPy array."
      ]
    },
    {
      "cell_type": "code",
      "execution_count": 10,
      "metadata": {
        "colab": {
          "base_uri": "https://localhost:8080/"
        },
        "id": "1ZvnRYCbbOIw",
        "outputId": "fe920ed4-28c7-4b96-f9ea-65612690305e"
      },
      "outputs": [
        {
          "name": "stdout",
          "output_type": "stream",
          "text": [
            "[1. 1. 1. 1. 1.]\n",
            "tensor([1., 1., 1., 1., 1.], dtype=torch.float64)\n"
          ]
        }
      ],
      "source": [
        "# Converting a numpy array to tensor\n",
        "numpy_t11 = np.ones(5)\n",
        "print(numpy_t11)\n",
        "t11 = torch.from_numpy(numpy_t11)\n",
        "print(t11)\n",
        "# t11 = t11.type(torch.int32)\n",
        "# print(t11)\n",
        "# print(t11.dtype)"
      ]
    },
    {
      "cell_type": "code",
      "execution_count": 11,
      "metadata": {
        "colab": {
          "base_uri": "https://localhost:8080/"
        },
        "id": "3qkxanZGegmT",
        "outputId": "18fa7128-a98c-491a-a89d-4a6f3d7062c1"
      },
      "outputs": [
        {
          "name": "stdout",
          "output_type": "stream",
          "text": [
            "tensor([2., 2., 2.])\n",
            "tensor([2., 2., 2.])\n"
          ]
        }
      ],
      "source": [
        "t12 = torch.ones(3)\n",
        "t12 += 1 # inplace tensor change which is allowed\n",
        "print(t12)\n",
        "t12 + 1 #Created a new tensor and did not change original\n",
        "print(t12)"
      ]
    },
    {
      "cell_type": "markdown",
      "metadata": {
        "id": "eyrRuZbtidTU"
      },
      "source": []
    },
    {
      "cell_type": "code",
      "execution_count": 13,
      "metadata": {
        "id": "YTgPN5WthDgQ"
      },
      "outputs": [],
      "source": [
        "if torch.cuda.is_available():\n",
        "  device = torch.device('cuda') #Changes the device to be used to cuda\n",
        "  x = torch.ones(3,device = device) #Creates a tensor on the GPU\n",
        "  y = torch.one(3) #Create a tensor on GPU\n",
        "  y = y.to(device) #Brought that tensor on GPU\n",
        "  z = x + y\n",
        "  # z.numpy() This will not work because cannot convert GPU tensor to num\n",
        "  # z = z.to('cpu') first move it to the cpu then it will work"
      ]
    },
    {
      "cell_type": "code",
      "execution_count": null,
      "metadata": {
        "id": "MkdoLpTfiYI-"
      },
      "outputs": [],
      "source": [
        "t16 = torch.one(3,requires_grad=True) #requires_grad tells that we need to perform gradient descents and optimize this tensor"
      ]
    }
  ],
  "metadata": {
    "colab": {
      "provenance": []
    },
    "kernelspec": {
      "display_name": "Python 3",
      "name": "python3"
    },
    "language_info": {
      "name": "python"
    }
  },
  "nbformat": 4,
  "nbformat_minor": 0
}
